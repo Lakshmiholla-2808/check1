{
    "cells": [
        {
            "metadata": {},
            "cell_type": "code",
            "source": "# The code was removed by Watson Studio for sharing.",
            "execution_count": null,
            "outputs": []
        },
        {
            "metadata": {},
            "cell_type": "code",
            "source": "print('key:ccc')",
            "execution_count": 2,
            "outputs": [
                {
                    "name": "stdout",
                    "output_type": "stream",
                    "text": "key:ccc\n"
                }
            ]
        },
        {
            "metadata": {},
            "cell_type": "code",
            "source": "a={1:\"2\"}\na",
            "execution_count": 3,
            "outputs": [
                {
                    "data": {
                        "text/plain": "{1: '2'}"
                    },
                    "execution_count": 3,
                    "metadata": {},
                    "output_type": "execute_result"
                }
            ]
        },
        {
            "metadata": {},
            "cell_type": "code",
            "source": "# The code was removed by Watson Studio for sharing.",
            "execution_count": null,
            "outputs": []
        },
        {
            "metadata": {},
            "cell_type": "code",
            "source": "# @hidden_cell\n# < all code in this cell will be hidden, including sensitive information >\nl=\"help\"",
            "execution_count": null,
            "outputs": []
        },
        {
            "metadata": {},
            "cell_type": "code",
            "source": "!pip install jupyter_contrib_nbextensions",
            "execution_count": 1,
            "outputs": [
                {
                    "output_type": "stream",
                    "text": "Collecting jupyter_contrib_nbextensions\n  Downloading jupyter_contrib_nbextensions-0.5.1-py2.py3-none-any.whl (20.9 MB)\n\u001b[K     |\u2588\u2588\u2588\u2588\u2588\u2588\u2588\u2588\u2588\u2588\u2588\u2588\u2588\u2588\u2588\u2588\u2588\u2588\u2588\u2588\u2588\u2588\u2588\u2588\u2588\u2588\u2588\u2588\u2588\u2588\u2588\u2588| 20.9 MB 8.7 MB/s eta 0:00:01\n\u001b[?25hRequirement already satisfied: ipython-genutils in /opt/conda/envs/Python-3.7-main/lib/python3.7/site-packages (from jupyter_contrib_nbextensions) (0.2.0)\nCollecting jupyter-contrib-core>=0.3.3\n  Downloading jupyter_contrib_core-0.3.3-py2.py3-none-any.whl (18 kB)\nRequirement already satisfied: pyyaml in /opt/conda/envs/Python-3.7-main/lib/python3.7/site-packages (from jupyter_contrib_nbextensions) (5.3.1)\nCollecting jupyter-nbextensions-configurator>=0.4.0\n  Downloading jupyter_nbextensions_configurator-0.4.1.tar.gz (479 kB)\n\u001b[K     |\u2588\u2588\u2588\u2588\u2588\u2588\u2588\u2588\u2588\u2588\u2588\u2588\u2588\u2588\u2588\u2588\u2588\u2588\u2588\u2588\u2588\u2588\u2588\u2588\u2588\u2588\u2588\u2588\u2588\u2588\u2588\u2588| 479 kB 50.0 MB/s eta 0:00:01\n\u001b[?25hRequirement already satisfied: nbconvert>=4.2 in /opt/conda/envs/Python-3.7-main/lib/python3.7/site-packages (from jupyter_contrib_nbextensions) (5.6.1)\nRequirement already satisfied: lxml in /opt/conda/envs/Python-3.7-main/lib/python3.7/site-packages (from jupyter_contrib_nbextensions) (4.5.1)\nRequirement already satisfied: jupyter-core in /opt/conda/envs/Python-3.7-main/lib/python3.7/site-packages (from jupyter_contrib_nbextensions) (4.6.3)\nCollecting jupyter-latex-envs>=1.3.8\n  Downloading jupyter_latex_envs-1.4.6.tar.gz (861 kB)\n\u001b[K     |\u2588\u2588\u2588\u2588\u2588\u2588\u2588\u2588\u2588\u2588\u2588\u2588\u2588\u2588\u2588\u2588\u2588\u2588\u2588\u2588\u2588\u2588\u2588\u2588\u2588\u2588\u2588\u2588\u2588\u2588\u2588\u2588| 861 kB 48.0 MB/s eta 0:00:01\n\u001b[?25hRequirement already satisfied: notebook>=4.0 in /opt/conda/envs/Python-3.7-main/lib/python3.7/site-packages (from jupyter_contrib_nbextensions) (6.0.3)\nRequirement already satisfied: traitlets>=4.1 in /opt/conda/envs/Python-3.7-main/lib/python3.7/site-packages (from jupyter_contrib_nbextensions) (4.3.3)\nCollecting jupyter-highlight-selected-word>=0.1.1\n  Downloading jupyter_highlight_selected_word-0.2.0-py2.py3-none-any.whl (11 kB)\nRequirement already satisfied: tornado in /opt/conda/envs/Python-3.7-main/lib/python3.7/site-packages (from jupyter_contrib_nbextensions) (6.0.4)\nRequirement already satisfied: setuptools in /opt/conda/envs/Python-3.7-main/lib/python3.7/site-packages (from jupyter-contrib-core>=0.3.3->jupyter_contrib_nbextensions) (47.3.1.post20200622)\nRequirement already satisfied: bleach in /opt/conda/envs/Python-3.7-main/lib/python3.7/site-packages (from nbconvert>=4.2->jupyter_contrib_nbextensions) (3.1.5)\nRequirement already satisfied: pandocfilters>=1.4.1 in /opt/conda/envs/Python-3.7-main/lib/python3.7/site-packages (from nbconvert>=4.2->jupyter_contrib_nbextensions) (1.4.2)\nRequirement already satisfied: pygments in /opt/conda/envs/Python-3.7-main/lib/python3.7/site-packages (from nbconvert>=4.2->jupyter_contrib_nbextensions) (2.6.1)\nRequirement already satisfied: nbformat>=4.4 in /opt/conda/envs/Python-3.7-main/lib/python3.7/site-packages (from nbconvert>=4.2->jupyter_contrib_nbextensions) (5.0.7)\nRequirement already satisfied: defusedxml in /opt/conda/envs/Python-3.7-main/lib/python3.7/site-packages (from nbconvert>=4.2->jupyter_contrib_nbextensions) (0.6.0)\nRequirement already satisfied: jinja2>=2.4 in /opt/conda/envs/Python-3.7-main/lib/python3.7/site-packages (from nbconvert>=4.2->jupyter_contrib_nbextensions) (2.11.2)\nRequirement already satisfied: entrypoints>=0.2.2 in /opt/conda/envs/Python-3.7-main/lib/python3.7/site-packages (from nbconvert>=4.2->jupyter_contrib_nbextensions) (0.3)\nRequirement already satisfied: mistune<2,>=0.8.1 in /opt/conda/envs/Python-3.7-main/lib/python3.7/site-packages (from nbconvert>=4.2->jupyter_contrib_nbextensions) (0.8.4)\nRequirement already satisfied: testpath in /opt/conda/envs/Python-3.7-main/lib/python3.7/site-packages (from nbconvert>=4.2->jupyter_contrib_nbextensions) (0.4.4)\nRequirement already satisfied: ipython in /opt/conda/envs/Python-3.7-main/lib/python3.7/site-packages (from jupyter-latex-envs>=1.3.8->jupyter_contrib_nbextensions) (7.15.0)\nRequirement already satisfied: Send2Trash in /opt/conda/envs/Python-3.7-main/lib/python3.7/site-packages (from notebook>=4.0->jupyter_contrib_nbextensions) (1.5.0)\nRequirement already satisfied: pyzmq>=17 in /opt/conda/envs/Python-3.7-main/lib/python3.7/site-packages (from notebook>=4.0->jupyter_contrib_nbextensions) (19.0.1)\nRequirement already satisfied: ipykernel in /opt/conda/envs/Python-3.7-main/lib/python3.7/site-packages (from notebook>=4.0->jupyter_contrib_nbextensions) (5.3.0)\nRequirement already satisfied: prometheus-client in /opt/conda/envs/Python-3.7-main/lib/python3.7/site-packages (from notebook>=4.0->jupyter_contrib_nbextensions) (0.8.0)\nRequirement already satisfied: jupyter-client>=5.3.4 in /opt/conda/envs/Python-3.7-main/lib/python3.7/site-packages (from notebook>=4.0->jupyter_contrib_nbextensions) (6.1.3)\nRequirement already satisfied: terminado>=0.8.1 in /opt/conda/envs/Python-3.7-main/lib/python3.7/site-packages (from notebook>=4.0->jupyter_contrib_nbextensions) (0.8.3)\nRequirement already satisfied: decorator in /opt/conda/envs/Python-3.7-main/lib/python3.7/site-packages (from traitlets>=4.1->jupyter_contrib_nbextensions) (4.4.2)\nRequirement already satisfied: six in /opt/conda/envs/Python-3.7-main/lib/python3.7/site-packages (from traitlets>=4.1->jupyter_contrib_nbextensions) (1.15.0)\nRequirement already satisfied: packaging in /opt/conda/envs/Python-3.7-main/lib/python3.7/site-packages (from bleach->nbconvert>=4.2->jupyter_contrib_nbextensions) (20.4)\nRequirement already satisfied: webencodings in /opt/conda/envs/Python-3.7-main/lib/python3.7/site-packages (from bleach->nbconvert>=4.2->jupyter_contrib_nbextensions) (0.5.1)\nRequirement already satisfied: jsonschema!=2.5.0,>=2.4 in /opt/conda/envs/Python-3.7-main/lib/python3.7/site-packages (from nbformat>=4.4->nbconvert>=4.2->jupyter_contrib_nbextensions) (3.2.0)\nRequirement already satisfied: MarkupSafe>=0.23 in /opt/conda/envs/Python-3.7-main/lib/python3.7/site-packages (from jinja2>=2.4->nbconvert>=4.2->jupyter_contrib_nbextensions) (1.1.1)\nRequirement already satisfied: backcall in /opt/conda/envs/Python-3.7-main/lib/python3.7/site-packages (from ipython->jupyter-latex-envs>=1.3.8->jupyter_contrib_nbextensions) (0.2.0)\nRequirement already satisfied: pickleshare in /opt/conda/envs/Python-3.7-main/lib/python3.7/site-packages (from ipython->jupyter-latex-envs>=1.3.8->jupyter_contrib_nbextensions) (0.7.5)\nRequirement already satisfied: pexpect; sys_platform != \"win32\" in /opt/conda/envs/Python-3.7-main/lib/python3.7/site-packages (from ipython->jupyter-latex-envs>=1.3.8->jupyter_contrib_nbextensions) (4.8.0)\nRequirement already satisfied: jedi>=0.10 in /opt/conda/envs/Python-3.7-main/lib/python3.7/site-packages (from ipython->jupyter-latex-envs>=1.3.8->jupyter_contrib_nbextensions) (0.17.1)\nRequirement already satisfied: prompt-toolkit!=3.0.0,!=3.0.1,<3.1.0,>=2.0.0 in /opt/conda/envs/Python-3.7-main/lib/python3.7/site-packages (from ipython->jupyter-latex-envs>=1.3.8->jupyter_contrib_nbextensions) (3.0.5)\nRequirement already satisfied: python-dateutil>=2.1 in /opt/conda/envs/Python-3.7-main/lib/python3.7/site-packages (from jupyter-client>=5.3.4->notebook>=4.0->jupyter_contrib_nbextensions) (2.8.1)\nRequirement already satisfied: pyparsing>=2.0.2 in /opt/conda/envs/Python-3.7-main/lib/python3.7/site-packages (from packaging->bleach->nbconvert>=4.2->jupyter_contrib_nbextensions) (2.4.7)\nRequirement already satisfied: pyrsistent>=0.14.0 in /opt/conda/envs/Python-3.7-main/lib/python3.7/site-packages (from jsonschema!=2.5.0,>=2.4->nbformat>=4.4->nbconvert>=4.2->jupyter_contrib_nbextensions) (0.16.0)\nRequirement already satisfied: importlib-metadata; python_version < \"3.8\" in /opt/conda/envs/Python-3.7-main/lib/python3.7/site-packages (from jsonschema!=2.5.0,>=2.4->nbformat>=4.4->nbconvert>=4.2->jupyter_contrib_nbextensions) (1.6.1)\nRequirement already satisfied: attrs>=17.4.0 in /opt/conda/envs/Python-3.7-main/lib/python3.7/site-packages (from jsonschema!=2.5.0,>=2.4->nbformat>=4.4->nbconvert>=4.2->jupyter_contrib_nbextensions) (19.3.0)\nRequirement already satisfied: ptyprocess>=0.5 in /opt/conda/envs/Python-3.7-main/lib/python3.7/site-packages (from pexpect; sys_platform != \"win32\"->ipython->jupyter-latex-envs>=1.3.8->jupyter_contrib_nbextensions) (0.6.0)\nRequirement already satisfied: parso<0.8.0,>=0.7.0 in /opt/conda/envs/Python-3.7-main/lib/python3.7/site-packages (from jedi>=0.10->ipython->jupyter-latex-envs>=1.3.8->jupyter_contrib_nbextensions) (0.7.0)\n",
                    "name": "stdout"
                },
                {
                    "output_type": "stream",
                    "text": "Requirement already satisfied: wcwidth in /opt/conda/envs/Python-3.7-main/lib/python3.7/site-packages (from prompt-toolkit!=3.0.0,!=3.0.1,<3.1.0,>=2.0.0->ipython->jupyter-latex-envs>=1.3.8->jupyter_contrib_nbextensions) (0.2.4)\nRequirement already satisfied: zipp>=0.5 in /opt/conda/envs/Python-3.7-main/lib/python3.7/site-packages (from importlib-metadata; python_version < \"3.8\"->jsonschema!=2.5.0,>=2.4->nbformat>=4.4->nbconvert>=4.2->jupyter_contrib_nbextensions) (3.1.0)\nBuilding wheels for collected packages: jupyter-nbextensions-configurator, jupyter-latex-envs\n  Building wheel for jupyter-nbextensions-configurator (setup.py) ... \u001b[?25ldone\n\u001b[?25h  Created wheel for jupyter-nbextensions-configurator: filename=jupyter_nbextensions_configurator-0.4.1-py2.py3-none-any.whl size=465825 sha256=0c8908b5fc57a49b691665b9a3d48a9b9b216e387fda61a34e386a44a07a5725\n  Stored in directory: /tmp/wsuser/.cache/pip/wheels/8d/c4/b5/e4b61f624036f83566580d61f24af7b73180b1361ee1ab3722\n  Building wheel for jupyter-latex-envs (setup.py) ... \u001b[?25ldone\n\u001b[?25h  Created wheel for jupyter-latex-envs: filename=jupyter_latex_envs-1.4.6-py2.py3-none-any.whl size=963395 sha256=06f4add360cda6dd3f546bb999f1c94508e680138d3669f02ac13d1168de0a96\n  Stored in directory: /tmp/wsuser/.cache/pip/wheels/a0/95/26/4cf34fb92765c95fb7851fd447511594bcc3a50e504bd09af9\nSuccessfully built jupyter-nbextensions-configurator jupyter-latex-envs\nInstalling collected packages: jupyter-contrib-core, jupyter-nbextensions-configurator, jupyter-latex-envs, jupyter-highlight-selected-word, jupyter-contrib-nbextensions\nSuccessfully installed jupyter-contrib-core-0.3.3 jupyter-contrib-nbextensions-0.5.1 jupyter-highlight-selected-word-0.2.0 jupyter-latex-envs-1.4.6 jupyter-nbextensions-configurator-0.4.1\n",
                    "name": "stdout"
                }
            ]
        },
        {
            "metadata": {},
            "cell_type": "code",
            "source": "",
            "execution_count": null,
            "outputs": []
        }
    ],
    "metadata": {
        "kernelspec": {
            "name": "python3",
            "display_name": "Python 3.7",
            "language": "python"
        },
        "language_info": {
            "name": "python",
            "version": "3.7.10",
            "mimetype": "text/x-python",
            "codemirror_mode": {
                "name": "ipython",
                "version": 3
            },
            "pygments_lexer": "ipython3",
            "nbconvert_exporter": "python",
            "file_extension": ".py"
        }
    },
    "nbformat": 4,
    "nbformat_minor": 1
}