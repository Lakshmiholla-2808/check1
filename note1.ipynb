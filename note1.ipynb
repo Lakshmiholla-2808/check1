{
    "cells": [
        {
            "metadata": {},
            "cell_type": "code",
            "source": "# The code was removed by Watson Studio for sharing.",
            "execution_count": null,
            "outputs": []
        },
        {
            "metadata": {},
            "cell_type": "code",
            "source": "print('key:ccc')",
            "execution_count": 2,
            "outputs": [
                {
                    "name": "stdout",
                    "output_type": "stream",
                    "text": "key:ccc\n"
                }
            ]
        },
        {
            "metadata": {},
            "cell_type": "code",
            "source": "a={1:\"2\"}\na",
            "execution_count": 3,
            "outputs": [
                {
                    "data": {
                        "text/plain": "{1: '2'}"
                    },
                    "execution_count": 3,
                    "metadata": {},
                    "output_type": "execute_result"
                }
            ]
        },
        {
            "metadata": {},
            "cell_type": "code",
            "source": "# The code was removed by Watson Studio for sharing.",
            "execution_count": null,
            "outputs": []
        },
        {
            "metadata": {},
            "cell_type": "code",
            "source": "# @hidden_cell\n# < all code in this cell will be hidden, including sensitive information >\nl=\"help\"",
            "execution_count": null,
            "outputs": []
        }
    ],
    "metadata": {
        "kernelspec": {
            "name": "python3",
            "display_name": "Python 3.7",
            "language": "python"
        },
        "language_info": {
            "name": "python",
            "version": "3.7.10",
            "mimetype": "text/x-python",
            "codemirror_mode": {
                "name": "ipython",
                "version": 3
            },
            "pygments_lexer": "ipython3",
            "nbconvert_exporter": "python",
            "file_extension": ".py"
        }
    },
    "nbformat": 4,
    "nbformat_minor": 1
}